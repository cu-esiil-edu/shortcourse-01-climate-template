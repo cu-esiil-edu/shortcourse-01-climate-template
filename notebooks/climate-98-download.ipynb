{
  "cells": [
    {
      "cell_type": "markdown",
      "metadata": {},
      "source": [
        "# Climate Coding Challenge\n",
        "\n",
        "Climate change is impacting the way people live around the world\n",
        "\n",
        "## There are more Earth Observation data online than any one person could ever look at\n",
        "\n",
        "[NASA’s Earth Observing System Data and Information System (EOSDIS)\n",
        "alone manages over 9PB of\n",
        "data](https://www.earthdata.nasa.gov/learn/articles/getting-petabytes-people-how-eosdis-facilitates-earth-observing-data-discovery-and-use).\n",
        "1 PB is roughly 100 times the entire Library of Congress (a good\n",
        "approximation of all the books available in the US). It’s all available\n",
        "to **you** once you learn how to download what you want.\n",
        "\n",
        "Here we’re using the NOAA National Centers for Environmental Information\n",
        "(NCEI) [Access Data\n",
        "Service](https://www.ncei.noaa.gov/support/access-data-service-api-user-documentation)\n",
        "application progamming interface (API) to request data from their web\n",
        "servers. We will be using data collected as part of the Global\n",
        "Historical Climatology Network daily (GHCNd) from their [Climate Data\n",
        "Online library](https://www.ncdc.noaa.gov/cdo-web/datasets) program at\n",
        "NOAA.\n",
        "\n",
        "For this example we’re requesting [daily summary data in Karachi,\n",
        "Pakistan (station ID\n",
        "PKM00041780)](https://www.ncdc.noaa.gov/cdo-web/datasets/GHCND/stations/GHCND:PKM00041780/detail).\n",
        "\n",
        "<link rel=\"stylesheet\" type=\"text/css\" href=\"./assets/styles.css\"><div class=\"callout callout-style-default callout-titled callout-response\"><div class=\"callout-header\"><div class=\"callout-icon-container\"><i class=\"callout-icon\"></i></div><div class=\"callout-title-container flex-fill\">Research and cite your data</div></div><div class=\"callout-body-container callout-body\"><ol type=\"1\">\n",
        "<li>Research the <a\n",
        "href=\"https://www.ncei.noaa.gov/metadata/geoportal/rest/metadata/item/gov.noaa.ncdc:C00861/html\"><strong>Global\n",
        "Historical Climatology Network - Daily</strong></a> data source.</li>\n",
        "<li>In the cell below, write a 2-3 sentence description of the data\n",
        "source.</li>\n",
        "<li>Include a citation of the data (<strong>HINT:</strong> See the ‘Data\n",
        "Citation’ tab on the GHCNd overview page).</li>\n",
        "</ol>\n",
        "<p>Your description should include:</p>\n",
        "<ul>\n",
        "<li>who takes the data</li>\n",
        "<li>where the data were taken</li>\n",
        "<li>what the maximum temperature units are</li>\n",
        "<li>how the data are collected</li>\n",
        "</ul></div></div>"
      ],
      "id": "05edec96-90c8-4167-a19a-1e9d16f4c5a3"
    },
    {
      "cell_type": "markdown",
      "metadata": {},
      "source": [
        "**YOUR DATA DESCRIPTION AND CITATION HERE** 🛎️"
      ],
      "id": "818a8688-ac1c-4096-9415-546c0a841811"
    },
    {
      "cell_type": "markdown",
      "metadata": {},
      "source": [
        "## Access NCEI GHCNd Data from the internet using its API 🖥️ 📡 🖥️\n",
        "\n",
        "The cell below contains the URL for the data you will use in this part\n",
        "of the notebook. We created this URL by generating what is called an\n",
        "**API endpoint** using the NCEI [API\n",
        "documentation](https://www.ncei.noaa.gov/support/access-data-service-api-user-documentation).\n",
        "\n",
        "> **What’s an API?**\n",
        ">\n",
        "> An **application programming interface** (API) is a way for two or\n",
        "> more computer programs or components to communicate with each other.\n",
        "> It is a type of software interface, offering a service to other pieces\n",
        "> of software ([Wikipedia](https://en.wikipedia.org/wiki/API)).\n",
        "\n",
        "First things first – you will need to import the `earthpy` library to\n",
        "help with data management and the `pandas` library to work with tabular\n",
        "data:"
      ],
      "id": "0abc2ded-deb6-4f35-802b-e15a46d731f2"
    },
    {
      "cell_type": "code",
      "execution_count": 1,
      "metadata": {},
      "outputs": [],
      "source": [
        "# Import required packages"
      ],
      "id": "ce9aa14c"
    },
    {
      "cell_type": "markdown",
      "metadata": {},
      "source": [
        "The cell below contains the URL you will use to download climate data.\n",
        "There are two things to notice about the URL code:\n",
        "\n",
        "1.  It is surrounded by quotes – that means Python will interpret it as\n",
        "    a `string`, or text, type, which makes sense for a URL.\n",
        "2.  The URL is too long to display as one line on most screens. We’ve\n",
        "    put parentheses around it so that we can easily split it into\n",
        "    multiple lines by writing two strings – one on each line.\n",
        "\n",
        "<link rel=\"stylesheet\" type=\"text/css\" href=\"./assets/styles.css\"><div class=\"callout callout-style-default callout-titled callout-task\"><div class=\"callout-header\"><div class=\"callout-icon-container\"><i class=\"callout-icon\"></i></div><div class=\"callout-title-container flex-fill\">Try It: Format your URL for readability</div></div><div class=\"callout-body-container callout-body\"><ol type=\"1\">\n",
        "<li>Pick an expressive variable name for the URL.</li>\n",
        "<li>Reformat the URL so that it adheres to the <a\n",
        "href=\"https://peps.python.org/pep-0008/#maximum-line-length\">79-character\n",
        "PEP-8 line limit</a>, and so that it is <strong>easy to read</strong>.\n",
        "If you are using GitHub Codespaces, you should see two vertical lines in\n",
        "each cell – don’t let your code go past the second line.</li>\n",
        "<li>Replace ‘DATATYPE’, ‘STATION’, and the start and end dates\n",
        "‘YYYY-MM-DD’, with the values for the data you want to download.</li>\n",
        "</ol></div></div>"
      ],
      "id": "90eb4a11-90d0-450b-9b4f-9bace3910218"
    },
    {
      "cell_type": "code",
      "execution_count": 3,
      "metadata": {
        "template": "student"
      },
      "outputs": [],
      "source": [
        "stuff23 = ('https://www.ncei.noaa.gov/access/services/da'\n",
        "'ta/v1?dataset=daily-summaries&dataTypes=DATATYPE&stations=STATION&startDate=YYYY-MM-DD&YYYY-MM-DD')\n",
        "stuff23"
      ],
      "id": "ff004b7c"
    },
    {
      "cell_type": "markdown",
      "metadata": {},
      "source": [
        "## Download and get started working with NCEI data\n",
        "\n",
        "Go ahead and use `earthpy` to download data from your API URL. You could\n",
        "also use Python, but using earthpy saves a file and lets you work\n",
        "offline later on. If you didn’t already, you should import the `earthpy`\n",
        "library **at the top of this notebook** so that others who want to use\n",
        "your code can find it easily."
      ],
      "id": "2d0b5410-3882-41b3-9687-89b27ad32b76"
    },
    {
      "cell_type": "code",
      "execution_count": 5,
      "metadata": {},
      "outputs": [],
      "source": [
        "project = earthpy.Project(dirname=project_dirname)\n",
        "project.get_data(url=ncei_url, filename=ncei_filename)\n",
        "ncei_path = project.project_dir / ncei_filename"
      ],
      "id": "b5cddd32"
    },
    {
      "cell_type": "code",
      "execution_count": 6,
      "metadata": {
        "template": "student"
      },
      "outputs": [],
      "source": [
        "# Download the climate data\n",
        "climate_df = pd.read_csv(\n",
        "    ncei_path,\n",
        "    # index_col='DATE',\n",
        "    # parse_dates=True,\n",
        "    # na_values=['NaN']\n",
        ")\n",
        "\n",
        "# Check that the download worked\n",
        "climate_df.head()"
      ],
      "id": "f032bf23"
    },
    {
      "cell_type": "markdown",
      "metadata": {},
      "source": [
        "# STEP -1: Wrap up\n",
        "\n",
        "Don’t forget to store your variables so you can use them in other\n",
        "notebooks! Replace `var1` and `var2` with the variable you want to save,\n",
        "separated by spaces."
      ],
      "id": "2ebf243a-8698-4cd4-ab90-c7d1bda6e88a"
    },
    {
      "cell_type": "code",
      "execution_count": 9,
      "metadata": {},
      "outputs": [],
      "source": [
        "%store var1 var2"
      ],
      "id": "3f064ace"
    },
    {
      "cell_type": "markdown",
      "metadata": {},
      "source": [
        "Finally, be sure to `Restart` and `Run all` to make sure your notebook\n",
        "works all the way through!"
      ],
      "id": "177cb9b1-cbc3-4c48-9c41-68f4483465ba"
    }
  ],
  "nbformat": 4,
  "nbformat_minor": 5,
  "metadata": {
    "kernelspec": {
      "name": "learning-portal",
      "display_name": "Learning Portal",
      "language": "python"
    },
    "language_info": {
      "name": "python",
      "codemirror_mode": {
        "name": "ipython",
        "version": "3"
      },
      "file_extension": ".py",
      "mimetype": "text/x-python",
      "nbconvert_exporter": "python",
      "pygments_lexer": "ipython3",
      "version": "3.11.13"
    }
  }
}