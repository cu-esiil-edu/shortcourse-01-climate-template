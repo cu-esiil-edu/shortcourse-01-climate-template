{
  "cells": [
    {
      "cell_type": "markdown",
      "metadata": {},
      "source": [
        "# Climate Coding Challenge\n",
        "\n",
        "Climate change is impacting the way people live around the world\n",
        "\n",
        "# STEP 2: Wrangle your data\n",
        "\n",
        "# STEP 0: Set up\n",
        "\n",
        "To get started on this notebook, you’ll need to restore any variables\n",
        "from previous notebooks to your workspace. To save time and memory, make\n",
        "sure to specify which variables you want to load."
      ],
      "id": "ffcaabeb-b942-4575-a8d8-4cf0ab73d513"
    },
    {
      "cell_type": "code",
      "execution_count": 1,
      "metadata": {},
      "outputs": [],
      "source": [
        "%store -r"
      ],
      "id": "8e8640f8"
    },
    {
      "cell_type": "markdown",
      "metadata": {},
      "source": [
        "You will also need to import any libraries you are using in this\n",
        "notebook, since they won’t carry over from the previous notebook:"
      ],
      "id": "2d8596f3-eaf8-4c76-9221-2623377bdeb1"
    },
    {
      "cell_type": "code",
      "execution_count": 2,
      "metadata": {},
      "outputs": [],
      "source": [
        "# Import libraries"
      ],
      "id": "6d2f8c2e"
    },
    {
      "cell_type": "markdown",
      "metadata": {},
      "source": [
        "## Python **packages** let you use code written by experts around the world\n",
        "\n",
        "Because Python is open source, lots of different people and\n",
        "organizations can contribute (including you!). Many contributions are in\n",
        "the form of **packages** which do not come with a standard Python\n",
        "download.\n",
        "\n",
        "<link rel=\"stylesheet\" type=\"text/css\" href=\"./assets/styles.css\"><div class=\"callout callout-style-default callout-titled callout-read\"><div class=\"callout-header\"><div class=\"callout-icon-container\"><i class=\"callout-icon\"></i></div><div class=\"callout-title-container flex-fill\">Read More: Packages need to be installed and imported.</div></div><div class=\"callout-body-container callout-body\"><p>Learn more about using Python packages. How do you find and use\n",
        "packages? What is the difference between installing and importing\n",
        "packages? When do you need to do each one? <a\n",
        "href=\"https://www.earthdatascience.org/courses/intro-to-earth-data-science/python-code-fundamentals/use-python-packages/\">This\n",
        "article on Python packages</a> will walk you through the basics.</p></div></div>\n",
        "\n",
        "In the cell below, someone was trying to import the **pandas package**,\n",
        "which helps us to work with [**tabular data** such as comma-separated\n",
        "value or csv\n",
        "files](https://www.earthdatascience.org/courses/intro-to-earth-data-science/file-formats/use-text-files/).\n",
        "\n",
        "<link rel=\"stylesheet\" type=\"text/css\" href=\"./assets/styles.css\"><div class=\"callout callout-style-default callout-titled callout-task\"><div class=\"callout-header\"><div class=\"callout-icon-container\"><i class=\"callout-icon\"></i></div><div class=\"callout-title-container flex-fill\">Try It: Import packages</div></div><div class=\"callout-body-container callout-body\"><ol type=\"1\">\n",
        "<li>Correct the typo below to properly import the pandas package under\n",
        "its <strong>alias</strong> pd.</li>\n",
        "<li>Run the cell to import the libraries you’ll need for this\n",
        "workflow.</li>\n",
        "</ol></div></div>\n",
        "\n",
        "> **Warning**\n",
        ">\n",
        "> Make sure to run your code in the right **environment** to avoid\n",
        "> import errors!\n",
        ">\n",
        "> We’ve created a coding **environment** for you to use that already has\n",
        "> all the software and packages you will need! When you try to run some\n",
        "> code, you may be prompted to select a **kernel**. The **kernel**\n",
        "> refers to the version of Python you are using. You should use the\n",
        "> **base** kernel, which should be the default option for you."
      ],
      "id": "ff6f77dc-3563-46fa-8b77-53630b29ed8d"
    },
    {
      "cell_type": "code",
      "execution_count": 3,
      "metadata": {
        "template": "student"
      },
      "outputs": [],
      "source": [
        "# Import libraries\n",
        "import holoviews as hv\n",
        "import hvplot.pandas\n",
        "import pandsa as pd"
      ],
      "id": "a38f89c4"
    },
    {
      "cell_type": "markdown",
      "metadata": {},
      "source": [
        "## Download the practice data\n",
        "\n",
        "Next, lets download some climate data from Karachi, Pakistan to practice\n",
        "with. We keep our practice data on a website called\n",
        "[figshare](https://figshare.com), so that we can check that it still\n",
        "works and make sure it looks just like the data you would download from\n",
        "the original source. Later, you’ll learn how to use our `earthpy`\n",
        "package to download and manage data, and also how to download raw data\n",
        "using **APIs**…but for now we’ll keep things simple and use a URL.\n",
        "\n",
        "The cell below contains the starting point for URL for the data you will\n",
        "use in this part of the notebook. There are three things to notice about\n",
        "the URL code:\n",
        "\n",
        "1.  It is surrounded by quotes – that means Python will interpret it as\n",
        "    a `string`, or text, type, which makes sense for a URL.\n",
        "2.  The URL is too long to display as one line on most screens. We’ve\n",
        "    put parentheses around it so that we can easily split it into\n",
        "    multiple lines by writing two strings – one on each line.\n",
        "3.  We replaced the figshare identifier for this dataset with\n",
        "    `'FIGSHARE_ID_HERE'`. You’ll have to replace that with the real\n",
        "    identifier, 55245161\n",
        "\n",
        "However, we still have a problem - we can’t get the URL back later on\n",
        "because it isn’t saved in a **variable**. In other words, we need to\n",
        "give the url a **name** so that we can request in from Python later\n",
        "(sadly, Python has no ‘hey what was that thingy I typed yesterday?’\n",
        "function).\n",
        "\n",
        "<link rel=\"stylesheet\" type=\"text/css\" href=\"./assets/styles.css\"><div class=\"callout callout-style-default callout-titled callout-read\"><div class=\"callout-header\"><div class=\"callout-icon-container\"><i class=\"callout-icon\"></i></div><div class=\"callout-title-container flex-fill\">Read More: Names/variables in Python</div></div><div class=\"callout-body-container callout-body\"><p>One of the most common challenges for new programmers is making sure\n",
        "that your results are stored so you can use them again. In Python, this\n",
        "is called <strong>naming</strong>, or saving a\n",
        "<strong>variable</strong>. Learn more in this <a\n",
        "href=\"https://www.earthdatascience.org/courses/intro-to-earth-data-science/python-code-fundamentals/get-started-using-python/variables/\">hands-on\n",
        "activity on using variables</a> from our learning portal.</p></div></div>\n",
        "\n",
        "<link rel=\"stylesheet\" type=\"text/css\" href=\"./assets/styles.css\"><div class=\"callout callout-style-default callout-titled callout-task\"><div class=\"callout-header\"><div class=\"callout-icon-container\"><i class=\"callout-icon\"></i></div><div class=\"callout-title-container flex-fill\">Try It: Save the URL for later</div></div><div class=\"callout-body-container callout-body\"><ol type=\"1\">\n",
        "<li>Replace <code>FIGSHARE_ID_HERE</code> with the figshare id, <span\n",
        "data-__quarto_custom=\"true\" data-__quarto_custom_type=\"Shortcode\"\n",
        "data-__quarto_custom_context=\"Inline\"\n",
        "data-__quarto_custom_id=\"6\"></span></li>\n",
        "<li>Pick an expressive variable name for the URL, and then save the URL\n",
        "using the equals sign <code>=</code>. For example, you could save the\n",
        "value <code>1</code> to the name <code>a_number</code> using the code\n",
        "<code>a_number = 1</code>.</li>\n",
        "<li>At the end of the cell where you define your url variable,\n",
        "<strong>call your variable (type out its name)</strong> so you can see\n",
        "what it is.</li>\n",
        "</ol></div></div>"
      ],
      "id": "79294ce9-bcc1-42d7-a209-b3866feda901"
    },
    {
      "cell_type": "code",
      "execution_count": 5,
      "metadata": {
        "template": "student"
      },
      "outputs": [],
      "source": [
        "'https://figshare.com/ndownloader/files/FIGSHARE_ID_HERE'"
      ],
      "id": "be0a1705"
    },
    {
      "cell_type": "markdown",
      "metadata": {},
      "source": [
        "The `pandas` library you imported can download data from the internet\n",
        "directly into a type of Python **object** called a `DataFrame`. In the\n",
        "code cell below, you can see an attempt to do just this. But there are\n",
        "some problems…\n",
        "\n",
        "<link rel=\"stylesheet\" type=\"text/css\" href=\"./assets/styles.css\"><div class=\"callout callout-style-default callout-titled callout-task\"><div class=\"callout-header\"><div class=\"callout-icon-container\"><i class=\"callout-icon\"></i></div><div class=\"callout-title-container flex-fill\">Try It: Fix some code!</div></div><div class=\"callout-body-container callout-body\"><ol type=\"1\">\n",
        "<li><p>Leave a space between the <code>#</code> and text in the comment,\n",
        "capitalize it, and try to make it more informative</p></li>\n",
        "<li><p>Make any changes needed to get this code to run. HINT: The\n",
        "<code>my_url</code> variable doesn’t exist - you need to replace it with\n",
        "the variable name <strong>you</strong> chose.</p></li>\n",
        "<li><p>Modify the <code>.read_csv()</code> function call to include the\n",
        "following parameters:</p>\n",
        "<ul>\n",
        "<li><code>index_col='DATE'</code> – this sets the <code>DATE</code>\n",
        "column as the index. Needed for subsetting and resampling later on</li>\n",
        "<li><code>parse_dates=True</code> – this lets <code>python</code> know\n",
        "that you are working with time-series data, and values in the indexed\n",
        "column are <strong>date time objects</strong></li>\n",
        "<li><code>na_values=['NaN']</code> – this lets <code>python</code> know\n",
        "how to handle missing values</li>\n",
        "</ul></li>\n",
        "<li><p>Clean up the code by using <strong>expressive variable\n",
        "names</strong>, <strong>expressive column names</strong>, <strong>PEP-8\n",
        "compliant code</strong>, and <strong>descriptive\n",
        "comments</strong></p></li>\n",
        "</ol></div></div>"
      ],
      "id": "1012fdcd-2898-4c0a-a4e6-a2d432377d6e"
    },
    {
      "cell_type": "code",
      "execution_count": 7,
      "metadata": {
        "template": "student"
      },
      "outputs": [],
      "source": [
        "#download\n",
        "climate_df = pd.read_csv(\n",
        "    my_url,\n",
        "    index_col='something')\n",
        "climate_df"
      ],
      "id": "b2652e3e"
    },
    {
      "cell_type": "markdown",
      "metadata": {},
      "source": [
        "> **Tip**\n",
        ">\n",
        "> Check out the `type()` function below - you can use it to check that\n",
        "> your data is now in `DataFrame` type object."
      ],
      "id": "39193b72-3783-447f-bbfe-cbc3f406a4c1"
    },
    {
      "cell_type": "code",
      "execution_count": 9,
      "metadata": {
        "template": "student"
      },
      "outputs": [],
      "source": [
        "# Check that the data was imported into a pandas DataFrame\n",
        "type(climate_df)"
      ],
      "id": "0834eb1e"
    },
    {
      "cell_type": "markdown",
      "metadata": {},
      "source": [
        "## Clean up your `DataFrame`\n",
        "\n",
        "<link rel=\"stylesheet\" type=\"text/css\" href=\"./assets/styles.css\"><div class=\"callout callout-style-default callout-titled callout-task\"><div class=\"callout-header\"><div class=\"callout-icon-container\"><i class=\"callout-icon\"></i></div><div class=\"callout-title-container flex-fill\">Try It: Get rid of unwanted columns</div></div><div class=\"callout-body-container callout-body\"><p>You can use <strong>double brackets</strong> (<code>[[</code> and\n",
        "<code>]]</code>) to select only the columns that you want from your\n",
        "<code>DataFrame</code>:</p>\n",
        "<ol type=\"1\">\n",
        "<li>Change <code>some_column_name</code> to the Temperature column\n",
        "name.</li>\n",
        "<li>Give the <code>DataFrame</code> a more descriptive name.</li>\n",
        "<li>Add a properly formatted comment to describe what this code is\n",
        "doing.</li>\n",
        "</ol></div></div>\n",
        "\n",
        "> **Warning**\n",
        ">\n",
        "> Column names are text values, not variable names, so you need to put\n",
        "> them in quotes!"
      ],
      "id": "44ff77a1-c147-4679-a5ac-4e14ec730f95"
    },
    {
      "cell_type": "code",
      "execution_count": 10,
      "metadata": {
        "template": "student"
      },
      "outputs": [],
      "source": [
        "climate_df = climate_df[['some_column_name']]\n",
        "climate_df"
      ],
      "id": "13767181"
    },
    {
      "cell_type": "markdown",
      "metadata": {},
      "source": [
        "Great work! You finished the data cleaning section of this coding\n",
        "challenge. You can go on to the next notebook – but first, make sure to\n",
        "store the climate `DataFrame` you made so that you can use it in the\n",
        "next notebooks. We’ll do this using the [ipython `store` **cell\n",
        "magic**](https://ipython.readthedocs.io/en/stable/config/extensions/storemagic.html).\n",
        "[Cell magic\n",
        "commands](https://ipython.readthedocs.io/en/stable/interactive/magics.html)\n",
        "aren’t part of your regular code; they’re there to help you with coding\n",
        "in Jupyter Notebooks. You can tell it’s a magic command because it\n",
        "starts with `%`:"
      ],
      "id": "c512aa54-c1eb-4c3d-b286-c188a9d1cc4e"
    },
    {
      "cell_type": "code",
      "execution_count": 12,
      "metadata": {},
      "outputs": [],
      "source": [
        "%store climate_df"
      ],
      "id": "8bea2ba9"
    },
    {
      "cell_type": "markdown",
      "metadata": {},
      "source": [
        "# STEP -1: Wrap up\n",
        "\n",
        "Don’t forget to store your variables so you can use them in other\n",
        "notebooks! Replace `var1` and `var2` with the variable you want to save,\n",
        "separated by spaces."
      ],
      "id": "3b2d7104-fde2-4851-99fa-d07986ec3a8e"
    },
    {
      "cell_type": "code",
      "execution_count": 13,
      "metadata": {},
      "outputs": [],
      "source": [
        "%store var1 var2"
      ],
      "id": "ce26bb2c"
    },
    {
      "cell_type": "markdown",
      "metadata": {},
      "source": [
        "Finally, be sure to `Restart` and `Run all` to make sure your notebook\n",
        "works all the way through!"
      ],
      "id": "74948678-c14b-4be6-afc6-0cea14edcd02"
    }
  ],
  "nbformat": 4,
  "nbformat_minor": 5,
  "metadata": {
    "kernelspec": {
      "name": "learning-portal",
      "display_name": "Learning Portal",
      "language": "python"
    },
    "language_info": {
      "name": "python",
      "codemirror_mode": {
        "name": "ipython",
        "version": "3"
      },
      "file_extension": ".py",
      "mimetype": "text/x-python",
      "nbconvert_exporter": "python",
      "pygments_lexer": "ipython3",
      "version": "3.11.13"
    }
  }
}