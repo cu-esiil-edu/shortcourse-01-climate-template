{
  "cells": [
    {
      "cell_type": "markdown",
      "id": "65ac4005-3d9f-4f75-b1cd-defcea32cb55",
      "metadata": {},
      "source": [
        "# Climate Coding Challenge\n",
        "\n",
        "Climate change is impacting the way people live around the world\n",
        "\n",
        "# STEP 3: Convert units\n",
        "\n",
        "It’s important to keep track of the units of all your data. You don’t\n",
        "want to be like the [NASA team who crashed a probe into Mars because\n",
        "different teams used different\n",
        "units](https://www.latimes.com/archives/la-xpm-1999-oct-01-mn-17288-story.html))!\n",
        "\n",
        "# STEP 0: Set up\n",
        "\n",
        "To get started on this notebook, you’ll need to restore any variables\n",
        "from previous notebooks to your workspace. To save time and memory, make\n",
        "sure to specify which variables you want to load."
      ]
    },
    {
      "cell_type": "code",
      "execution_count": 2,
      "id": "ba28fa39",
      "metadata": {},
      "outputs": [],
      "source": [
        "%store -r"
      ]
    },
    {
      "cell_type": "markdown",
      "id": "0c4e3c7b-c803-4b09-98ba-1e96d50ae8dd",
      "metadata": {},
      "source": [
        "You will also need to import any libraries you are using in this\n",
        "notebook, since they won’t carry over from the previous notebook:"
      ]
    },
    {
      "cell_type": "code",
      "execution_count": 3,
      "id": "ef3030f3",
      "metadata": {},
      "outputs": [],
      "source": [
        "# Import libraries"
      ]
    },
    {
      "cell_type": "markdown",
      "id": "f50836dc-76e6-4d5d-956d-0b55c22f2d1a",
      "metadata": {},
      "source": [
        "## Use labels to keep track of units for you and your collaborators\n",
        "\n",
        "One way to keep track of your data’s units is to include the unit in\n",
        "data **labels**. In the case of a `DataFrame`, that usually means the\n",
        "column names.\n",
        "\n",
        "<link rel=\"stylesheet\" type=\"text/css\" href=\"./assets/styles.css\"><div class=\"callout callout-style-default callout-titled callout-task\"><div class=\"callout-header\"><div class=\"callout-icon-container\"><i class=\"callout-icon\"></i></div><div class=\"callout-title-container flex-fill\">Try It: Add units to your column name</div></div><div class=\"callout-body-container callout-body\"><p>A big part of writing <strong>expressive</strong> code is descriptive\n",
        "labels. Let’s rename the columns of your dataframe to include units.\n",
        "Complete the following steps:</p>\n",
        "<ol type=\"1\">\n",
        "<li>Replace <code>dataframe</code> with the name of\n",
        "<strong>your</strong> <code>DataFrame</code>, and\n",
        "<code>dataframe_units</code> with an expressive new name.</li>\n",
        "<li>Check out the <a\n",
        "href=\"https://www.ncei.noaa.gov/data/global-historical-climatology-network-daily/doc/GHCND_documentation.pdf\">documentation\n",
        "for GCHNd data</a>. We downloaded data with “standard” units; find out\n",
        "what that means for both temperature and precipitation.</li>\n",
        "<li>Replace <code>'TOBS'</code> with the temperature column name in your\n",
        "data, and <code>'TOBS_UNIT'</code> with a column name that includes the\n",
        "correct unit.</li>\n",
        "</ol></div></div>"
      ]
    },
    {
      "cell_type": "code",
      "execution_count": 4,
      "id": "eb62c28a",
      "metadata": {
        "template": "student"
      },
      "outputs": [],
      "source": [
        "dataframe_units = dataframe.rename(columns={\n",
        "    'TOBS': 'TOBS_UNIT',\n",
        "})\n",
        "\n",
        "dataframe"
      ]
    },
    {
      "cell_type": "markdown",
      "id": "4079249b-4729-44aa-89c5-e8c1108a7a7c",
      "metadata": {},
      "source": [
        "## For scientific applications, it is often useful to have values in metric units\n",
        "\n",
        "<link rel=\"stylesheet\" type=\"text/css\" href=\"./assets/styles.css\"><div class=\"callout callout-style-default callout-titled callout-task\"><div class=\"callout-header\"><div class=\"callout-icon-container\"><i class=\"callout-icon\"></i></div><div class=\"callout-title-container flex-fill\">Try It: Convert units</div></div><div class=\"callout-body-container callout-body\"><p>The code below attempts to convert the data to Celcius, using Python\n",
        "mathematical <strong>operators</strong>, like <code>+</code>,\n",
        "<code>-</code>, <code>*</code>, and <code>/</code>. Mathematical\n",
        "operators in Python work just like a calculator, and that includes using\n",
        "parentheses to designat the <strong>order of operations</strong>. The\n",
        "equation for converting Fahrenheit temperature to Celcius is:</p>\n",
        "<p><span class=\"math display\">$$\n",
        "T_C = (T_F - 32) * \\frac{5}{9}\n",
        "$$</span></p>\n",
        "<p>This code is not well documented and doesn’t follow <a\n",
        "href=\"https://peps.python.org/pep-0008/#other-recommendations\">PEP-8\n",
        "guidelines</a>, which has caused the author to miss an <strong>important\n",
        "error</strong>!</p>\n",
        "<p>Complete the following steps:</p>\n",
        "<ol type=\"1\">\n",
        "<li>Replace <code>dataframe</code> with the name of\n",
        "<strong>your</strong> <code>DataFrame</code>.</li>\n",
        "<li>Replace <code>'old_temperature'</code> with the column name\n",
        "<strong>you</strong> used; Replace <code>'new_temperature'</code> with\n",
        "an <strong>expressive</strong> column name.</li>\n",
        "<li><strong>THERE IS AN ERROR IN THE CONVERSION MATH - Fix\n",
        "it!</strong></li>\n",
        "</ol></div></div>"
      ]
    },
    {
      "cell_type": "code",
      "execution_count": 6,
      "id": "a3eb15c6",
      "metadata": {
        "template": "student"
      },
      "outputs": [],
      "source": [
        "dataframe_units['new_temperature']= dataframe_units['old_temperature']-32*5/9\n",
        "dataframe_units"
      ]
    },
    {
      "cell_type": "markdown",
      "id": "dc36fa44-055d-4d40-be9b-9aae248e085e",
      "metadata": {},
      "source": [
        "<link rel=\"stylesheet\" type=\"text/css\" href=\"./assets/styles.css\"><div class=\"callout callout-style-default callout-titled callout-extra\"><div class=\"callout-header\"><div class=\"callout-icon-container\"><i class=\"callout-icon\"></i></div><div class=\"callout-title-container flex-fill\">Looking for an Extra Challenge?</div></div><div class=\"callout-body-container callout-body\"><p>Using the code below as a framework, write and apply a\n",
        "<strong>function</strong> that converts to Celcius. You should also\n",
        "rewrite this function name to be more expressive.</p>\n",
        "<div class=\"sourceCode\" id=\"cb1\"><pre\n",
        "class=\"sourceCode python\"><code class=\"sourceCode python\"><span id=\"cb1-1\"><a href=\"#cb1-1\" aria-hidden=\"true\" tabindex=\"-1\"></a><span class=\"kw\">def</span> convert(temperature):</span>\n",
        "<span id=\"cb1-2\"><a href=\"#cb1-2\" aria-hidden=\"true\" tabindex=\"-1\"></a>    <span class=\"co\">&quot;&quot;&quot;Convert temperature to Celcius&quot;&quot;&quot;</span></span>\n",
        "<span id=\"cb1-3\"><a href=\"#cb1-3\" aria-hidden=\"true\" tabindex=\"-1\"></a>    <span class=\"cf\">return</span> temperature <span class=\"co\"># Put your equation in here</span></span>\n",
        "<span id=\"cb1-4\"><a href=\"#cb1-4\" aria-hidden=\"true\" tabindex=\"-1\"></a></span>\n",
        "<span id=\"cb1-5\"><a href=\"#cb1-5\" aria-hidden=\"true\" tabindex=\"-1\"></a>dataframe[<span class=\"st\">&#39;TEMP_C&#39;</span>] <span class=\"op\">=</span> dataframe[<span class=\"st\">&#39;TEMP_F&#39;</span>].<span class=\"bu\">apply</span>(convert)</span></code></pre></div></div></div>\n",
        "\n",
        "# STEP -1: Wrap up\n",
        "\n",
        "Don’t forget to store your variables so you can use them in other\n",
        "notebooks! Replace `var1` and `var2` with the variable you want to save,\n",
        "separated by spaces."
      ]
    },
    {
      "cell_type": "code",
      "execution_count": 8,
      "id": "928f5386",
      "metadata": {},
      "outputs": [],
      "source": [
        "%store var1 var2"
      ]
    },
    {
      "cell_type": "markdown",
      "id": "284483dc-5aec-4034-8500-84d057b80a08",
      "metadata": {},
      "source": [
        "Finally, be sure to `Restart` and `Run all` to make sure your notebook\n",
        "works all the way through!"
      ]
    }
  ],
  "metadata": {
    "kernelspec": {
      "display_name": "Learning Portal",
      "language": "python",
      "name": "learning-portal"
    },
    "language_info": {
      "codemirror_mode": {
        "name": "ipython",
        "version": "3"
      },
      "file_extension": ".py",
      "mimetype": "text/x-python",
      "name": "python",
      "nbconvert_exporter": "python",
      "pygments_lexer": "ipython3",
      "version": "3.11.13"
    }
  },
  "nbformat": 4,
  "nbformat_minor": 5
}
